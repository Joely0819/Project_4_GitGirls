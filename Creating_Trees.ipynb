{
 "cells": [
  {
   "cell_type": "markdown",
   "id": "14d6376f",
   "metadata": {},
   "source": [
    "# Visual Creation\n",
    "Correlation Matrix and Decision Trees"
   ]
  },
  {
   "cell_type": "code",
   "execution_count": 1,
   "id": "76645ff2",
   "metadata": {},
   "outputs": [],
   "source": [
    "import pandas as pd\n",
    "import csv "
   ]
  },
  {
   "cell_type": "code",
   "execution_count": 2,
   "id": "a1f3b1b9",
   "metadata": {},
   "outputs": [],
   "source": [
    "from sklearn.datasets import load_iris\n",
    "from sklearn import tree"
   ]
  },
  {
   "cell_type": "code",
   "execution_count": null,
   "id": "2b5f5b62",
   "metadata": {},
   "outputs": [],
   "source": [
    "from sklearn.ensemble import RandomForestRegressor"
   ]
  },
  {
   "cell_type": "code",
   "execution_count": 3,
   "id": "8f5269af",
   "metadata": {},
   "outputs": [],
   "source": [
    "X_train = pd.read_csv('X_train.csv')\n",
    "Y_train = pd.read_csv('Y_train.csv')\n",
    "X_test = pd.read_csv('X_test.csv')\n",
    "Y_test = pd.read_csv('Y_test.csv')"
   ]
  },
  {
   "cell_type": "code",
   "execution_count": 4,
   "id": "596e6727",
   "metadata": {
    "scrolled": true
   },
   "outputs": [],
   "source": [
    "X_train.drop(X_train.columns[X_train.columns.str.contains('unnamed',case = False)],axis = 1, inplace = True)\n",
    "Y_train.drop(Y_train.columns[Y_train.columns.str.contains('unnamed',case = False)],axis = 1, inplace = True)"
   ]
  },
  {
   "cell_type": "code",
   "execution_count": 12,
   "id": "d5487707",
   "metadata": {},
   "outputs": [],
   "source": [
    "X_test.drop(X_test.columns[X_test.columns.str.contains('unnamed',case = False)],axis = 1, inplace = True)\n",
    "Y_test.drop(Y_test.columns[Y_test.columns.str.contains('unnamed',case = False)],axis = 1, inplace = True)"
   ]
  },
  {
   "cell_type": "code",
   "execution_count": 5,
   "id": "eac24d43",
   "metadata": {},
   "outputs": [],
   "source": [
    "from sklearn.tree import export_graphviz\n",
    "import pydot\n",
    "from sklearn.tree import export_graphviz\n",
    "import pydot"
   ]
  },
  {
   "cell_type": "code",
   "execution_count": 6,
   "id": "6157aa8e",
   "metadata": {},
   "outputs": [],
   "source": [
    "feature_list = list(X_train.columns)"
   ]
  },
  {
   "cell_type": "code",
   "execution_count": 13,
   "id": "715c66a7",
   "metadata": {},
   "outputs": [],
   "source": [
    "feature_list2 = list(X_test.columns)"
   ]
  },
  {
   "cell_type": "code",
   "execution_count": 11,
   "id": "33c22dfb",
   "metadata": {
    "scrolled": true
   },
   "outputs": [
    {
     "name": "stderr",
     "output_type": "stream",
     "text": [
      "<ipython-input-11-1d5da17a014c>:3: DataConversionWarning: A column-vector y was passed when a 1d array was expected. Please change the shape of y to (n_samples,), for example using ravel().\n",
      "  rf_small.fit(X_train, Y_train)\n"
     ]
    }
   ],
   "source": [
    "# Limit depth of tree to 3 levels\n",
    "rf_small = RandomForestRegressor(n_estimators=10, max_depth = 3)\n",
    "rf_small.fit(X_train, Y_train)\n",
    "# Extract the small tree\n",
    "tree_small = rf_small.estimators_[5]\n",
    "# Save the tree as a png image\n",
    "export_graphviz(tree_small, out_file = 'small_tree.dot', feature_names = feature_list, rounded = True, precision = 1)\n",
    "(graph, ) = pydot.graph_from_dot_file('small_tree.dot')\n",
    "graph.write_png('small_tree.png');\n"
   ]
  },
  {
   "cell_type": "code",
   "execution_count": 14,
   "id": "d81cec9d",
   "metadata": {},
   "outputs": [
    {
     "name": "stderr",
     "output_type": "stream",
     "text": [
      "<ipython-input-14-322b56e349eb>:3: DataConversionWarning: A column-vector y was passed when a 1d array was expected. Please change the shape of y to (n_samples,), for example using ravel().\n",
      "  rf_small.fit(X_test, Y_test)\n"
     ]
    }
   ],
   "source": [
    "# Limit depth of tree to 3 levels\n",
    "rf_small = RandomForestRegressor(n_estimators=10, max_depth = 3)\n",
    "rf_small.fit(X_test, Y_test)\n",
    "# Extract the small tree\n",
    "tree_small = rf_small.estimators_[5]\n",
    "# Save the tree as a png image\n",
    "export_graphviz(tree_small, out_file = 'small_tree2.dot', feature_names = feature_list2, rounded = True, precision = 1)\n",
    "(graph, ) = pydot.graph_from_dot_file('small_tree2.dot')\n",
    "graph.write_png('small_tree2.png');\n"
   ]
  },
  {
   "cell_type": "code",
   "execution_count": null,
   "id": "9dadd9a4",
   "metadata": {},
   "outputs": [],
   "source": []
  },
  {
   "cell_type": "code",
   "execution_count": null,
   "id": "85a5feeb",
   "metadata": {},
   "outputs": [],
   "source": [
    "from sklearn.datasets import load_iris\n",
    "\n",
    "# Model (can also use single decision tree)\n",
    "from sklearn.ensemble import RandomForestClassifier\n",
    "model = RandomForestClassifier(n_estimators=10)"
   ]
  },
  {
   "cell_type": "code",
   "execution_count": null,
   "id": "63ef1bf9",
   "metadata": {},
   "outputs": [],
   "source": [
    "# Train\n",
    "model.fit(iris.data, iris.target)\n",
    "# Extract single tree\n",
    "estimator = model.estimators_[5]"
   ]
  },
  {
   "cell_type": "code",
   "execution_count": null,
   "id": "880c5d7e",
   "metadata": {},
   "outputs": [],
   "source": [
    "from sklearn.tree import export_graphviz\n",
    "# Export as dot file\n",
    "export_graphviz(estimator, out_file='tree.dot', \n",
    "                feature_names = iris.feature_names,\n",
    "                class_names = iris.target_names,\n",
    "                rounded = True, proportion = False, \n",
    "                precision = 2, filled = True)\n",
    "\n",
    "# Convert to png using system command (requires Graphviz)\n",
    "from subprocess import call\n",
    "call(['dot', '-Tpng', 'tree.dot', '-o', 'tree.png', '-Gdpi=600'])\n",
    "\n",
    "# Display in jupyter notebook\n",
    "from IPython.display import Image\n",
    "Image(filename = 'tree.png')"
   ]
  },
  {
   "cell_type": "code",
   "execution_count": 16,
   "id": "407e29c0",
   "metadata": {
    "scrolled": true
   },
   "outputs": [],
   "source": [
    "#all data \n",
    "all_data= pd.read_csv('Resources/Merged_Frames.csv')"
   ]
  },
  {
   "cell_type": "code",
   "execution_count": 25,
   "id": "78f5458b",
   "metadata": {},
   "outputs": [
    {
     "data": {
      "image/png": "[encoded data removed]",
      "text/plain": [
       "<Figure size 288x288 with 1 Axes>"
      ]
     },
     "metadata": {
      "needs_background": "light"
     },
     "output_type": "display_data"
    }
   ],
   "source": [
    "import matplotlib.pyplot as plt\n",
    "\n",
    "plt.matshow(all_data.corr())\n",
    "plt.show()\n"
   ]
  },
  {
   "cell_type": "code",
   "execution_count": 20,
   "id": "df3219ca",
   "metadata": {
    "scrolled": true
   },
   "outputs": [],
   "source": [
    "all_data.drop(all_data.columns[all_data.columns.str.contains('unnamed',case = False)],axis = 1, inplace = True)"
   ]
  },
  {
   "cell_type": "code",
   "execution_count": 22,
   "id": "9b8356f2",
   "metadata": {},
   "outputs": [],
   "source": [
    "all_data= all_data.drop(columns=['id'])"
   ]
  },
  {
   "cell_type": "code",
   "execution_count": 23,
   "id": "24aa29fb",
   "metadata": {},
   "outputs": [
    {
     "data": {
      "text/html": [
       "<style  type=\"text/css\" >\n",
       "#T_786b5_row0_col0,#T_786b5_row1_col1,#T_786b5_row2_col2,#T_786b5_row3_col3{\n",
       "            background-color:  #b40426;\n",
       "            color:  #f1f1f1;\n",
       "        }#T_786b5_row0_col1{\n",
       "            background-color:  #90b2fe;\n",
       "            color:  #000000;\n",
       "        }#T_786b5_row0_col2{\n",
       "            background-color:  #6282ea;\n",
       "            color:  #000000;\n",
       "        }#T_786b5_row0_col3{\n",
       "            background-color:  #f6bda2;\n",
       "            color:  #000000;\n",
       "        }#T_786b5_row1_col0{\n",
       "            background-color:  #6b8df0;\n",
       "            color:  #000000;\n",
       "        }#T_786b5_row1_col2,#T_786b5_row2_col0,#T_786b5_row2_col1,#T_786b5_row2_col3{\n",
       "            background-color:  #3b4cc0;\n",
       "            color:  #f1f1f1;\n",
       "        }#T_786b5_row1_col3{\n",
       "            background-color:  #a5c3fe;\n",
       "            color:  #000000;\n",
       "        }#T_786b5_row3_col0{\n",
       "            background-color:  #f5c1a9;\n",
       "            color:  #000000;\n",
       "        }#T_786b5_row3_col1{\n",
       "            background-color:  #bad0f8;\n",
       "            color:  #000000;\n",
       "        }#T_786b5_row3_col2{\n",
       "            background-color:  #5673e0;\n",
       "            color:  #000000;\n",
       "        }</style><table id=\"T_786b5_\" ><thead>    <tr>        <th class=\"blank level0\" ></th>        <th class=\"col_heading level0 col0\" >budget</th>        <th class=\"col_heading level0 col1\" >popularity</th>        <th class=\"col_heading level0 col2\" >runtime</th>        <th class=\"col_heading level0 col3\" >revenue</th>    </tr></thead><tbody>\n",
       "                <tr>\n",
       "                        <th id=\"T_786b5_level0_row0\" class=\"row_heading level0 row0\" >budget</th>\n",
       "                        <td id=\"T_786b5_row0_col0\" class=\"data row0 col0\" >1.000000</td>\n",
       "                        <td id=\"T_786b5_row0_col1\" class=\"data row0 col1\" >0.339172</td>\n",
       "                        <td id=\"T_786b5_row0_col2\" class=\"data row0 col2\" >0.220219</td>\n",
       "                        <td id=\"T_786b5_row0_col3\" class=\"data row0 col3\" >0.716402</td>\n",
       "            </tr>\n",
       "            <tr>\n",
       "                        <th id=\"T_786b5_level0_row1\" class=\"row_heading level0 row1\" >popularity</th>\n",
       "                        <td id=\"T_786b5_row1_col0\" class=\"data row1 col0\" >0.339172</td>\n",
       "                        <td id=\"T_786b5_row1_col1\" class=\"data row1 col1\" >1.000000</td>\n",
       "                        <td id=\"T_786b5_row1_col2\" class=\"data row1 col2\" >0.107961</td>\n",
       "                        <td id=\"T_786b5_row1_col3\" class=\"data row1 col3\" >0.447316</td>\n",
       "            </tr>\n",
       "            <tr>\n",
       "                        <th id=\"T_786b5_level0_row2\" class=\"row_heading level0 row2\" >runtime</th>\n",
       "                        <td id=\"T_786b5_row2_col0\" class=\"data row2 col0\" >0.220219</td>\n",
       "                        <td id=\"T_786b5_row2_col1\" class=\"data row2 col1\" >0.107961</td>\n",
       "                        <td id=\"T_786b5_row2_col2\" class=\"data row2 col2\" >1.000000</td>\n",
       "                        <td id=\"T_786b5_row2_col3\" class=\"data row2 col3\" >0.191385</td>\n",
       "            </tr>\n",
       "            <tr>\n",
       "                        <th id=\"T_786b5_level0_row3\" class=\"row_heading level0 row3\" >revenue</th>\n",
       "                        <td id=\"T_786b5_row3_col0\" class=\"data row3 col0\" >0.716402</td>\n",
       "                        <td id=\"T_786b5_row3_col1\" class=\"data row3 col1\" >0.447316</td>\n",
       "                        <td id=\"T_786b5_row3_col2\" class=\"data row3 col2\" >0.191385</td>\n",
       "                        <td id=\"T_786b5_row3_col3\" class=\"data row3 col3\" >1.000000</td>\n",
       "            </tr>\n",
       "    </tbody></table>"
      ],
      "text/plain": [
       "<pandas.io.formats.style.Styler at 0x7fdf290763a0>"
      ]
     },
     "execution_count": 23,
     "metadata": {},
     "output_type": "execute_result"
    }
   ],
   "source": [
    "import pandas as pd\n",
    "import numpy as np\n",
    "\n",
    "corr = all_data.corr()\n",
    "corr.style.background_gradient(cmap='coolwarm')\n",
    "# 'RdBu_r', 'BrBG_r', & PuOr_r are other good diverging colormaps"
   ]
  },
  {
   "cell_type": "code",
   "execution_count": 24,
   "id": "031bd85d",
   "metadata": {},
   "outputs": [
    {
     "data": {
      "text/html": [
       "<style  type=\"text/css\" >\n",
       "#T_916a8_row0_col0,#T_916a8_row0_col1,#T_916a8_row0_col2,#T_916a8_row0_col3,#T_916a8_row1_col1,#T_916a8_row1_col2,#T_916a8_row1_col3,#T_916a8_row2_col2,#T_916a8_row2_col3,#T_916a8_row3_col3{\n",
       "            background-color:  #000000;\n",
       "            color:  #f1f1f1;\n",
       "            background-color:  #f1f1f1;\n",
       "        }#T_916a8_row1_col0{\n",
       "            background-color:  #f7b79b;\n",
       "            color:  #000000;\n",
       "        }#T_916a8_row2_col0{\n",
       "            background-color:  #f3c8b2;\n",
       "            color:  #000000;\n",
       "        }#T_916a8_row2_col1{\n",
       "            background-color:  #ead5c9;\n",
       "            color:  #000000;\n",
       "        }#T_916a8_row3_col0{\n",
       "            background-color:  #e26952;\n",
       "            color:  #000000;\n",
       "        }#T_916a8_row3_col1{\n",
       "            background-color:  #f6a385;\n",
       "            color:  #000000;\n",
       "        }#T_916a8_row3_col2{\n",
       "            background-color:  #f1ccb8;\n",
       "            color:  #000000;\n",
       "        }</style><table id=\"T_916a8_\" ><thead>    <tr>        <th class=\"blank level0\" ></th>        <th class=\"col_heading level0 col0\" >budget</th>        <th class=\"col_heading level0 col1\" >popularity</th>        <th class=\"col_heading level0 col2\" >runtime</th>        <th class=\"col_heading level0 col3\" >revenue</th>    </tr></thead><tbody>\n",
       "                <tr>\n",
       "                        <th id=\"T_916a8_level0_row0\" class=\"row_heading level0 row0\" >budget</th>\n",
       "                        <td id=\"T_916a8_row0_col0\" class=\"data row0 col0\" >nan</td>\n",
       "                        <td id=\"T_916a8_row0_col1\" class=\"data row0 col1\" >nan</td>\n",
       "                        <td id=\"T_916a8_row0_col2\" class=\"data row0 col2\" >nan</td>\n",
       "                        <td id=\"T_916a8_row0_col3\" class=\"data row0 col3\" >nan</td>\n",
       "            </tr>\n",
       "            <tr>\n",
       "                        <th id=\"T_916a8_level0_row1\" class=\"row_heading level0 row1\" >popularity</th>\n",
       "                        <td id=\"T_916a8_row1_col0\" class=\"data row1 col0\" >0.34</td>\n",
       "                        <td id=\"T_916a8_row1_col1\" class=\"data row1 col1\" >nan</td>\n",
       "                        <td id=\"T_916a8_row1_col2\" class=\"data row1 col2\" >nan</td>\n",
       "                        <td id=\"T_916a8_row1_col3\" class=\"data row1 col3\" >nan</td>\n",
       "            </tr>\n",
       "            <tr>\n",
       "                        <th id=\"T_916a8_level0_row2\" class=\"row_heading level0 row2\" >runtime</th>\n",
       "                        <td id=\"T_916a8_row2_col0\" class=\"data row2 col0\" >0.22</td>\n",
       "                        <td id=\"T_916a8_row2_col1\" class=\"data row2 col1\" >0.11</td>\n",
       "                        <td id=\"T_916a8_row2_col2\" class=\"data row2 col2\" >nan</td>\n",
       "                        <td id=\"T_916a8_row2_col3\" class=\"data row2 col3\" >nan</td>\n",
       "            </tr>\n",
       "            <tr>\n",
       "                        <th id=\"T_916a8_level0_row3\" class=\"row_heading level0 row3\" >revenue</th>\n",
       "                        <td id=\"T_916a8_row3_col0\" class=\"data row3 col0\" >0.72</td>\n",
       "                        <td id=\"T_916a8_row3_col1\" class=\"data row3 col1\" >0.45</td>\n",
       "                        <td id=\"T_916a8_row3_col2\" class=\"data row3 col2\" >0.19</td>\n",
       "                        <td id=\"T_916a8_row3_col3\" class=\"data row3 col3\" >nan</td>\n",
       "            </tr>\n",
       "    </tbody></table>"
      ],
      "text/plain": [
       "<pandas.io.formats.style.Styler at 0x7fdf292c15b0>"
      ]
     },
     "execution_count": 24,
     "metadata": {},
     "output_type": "execute_result"
    }
   ],
   "source": [
    "# Fill diagonal and upper half with NaNs\n",
    "mask = np.zeros_like(corr, dtype=bool)\n",
    "mask[np.triu_indices_from(mask)] = True\n",
    "corr[mask] = np.nan\n",
    "(corr\n",
    " .style\n",
    " .background_gradient(cmap='coolwarm', axis=None, vmin=-1, vmax=1)\n",
    " .highlight_null(null_color='#f1f1f1')  # Color NaNs grey\n",
    " .set_precision(2))"
   ]
  },
  {
   "cell_type": "code",
   "execution_count": null,
   "id": "9284dc3a",
   "metadata": {},
   "outputs": [],
   "source": []
  }
 ],
 "metadata": {
  "kernelspec": {
   "display_name": "Python 3",
   "language": "python",
   "name": "python3"
  },
  "language_info": {
   "codemirror_mode": {
    "name": "ipython",
    "version": 3
   },
   "file_extension": ".py",
   "mimetype": "text/x-python",
   "name": "python",
   "nbconvert_exporter": "python",
   "pygments_lexer": "ipython3",
   "version": "3.8.8"
  }
 },
 "nbformat": 4,
 "nbformat_minor": 5
}
