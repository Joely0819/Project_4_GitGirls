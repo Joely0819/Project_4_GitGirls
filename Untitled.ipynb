{
 "cells": [
  {
   "cell_type": "markdown",
   "id": "c54cd200",
   "metadata": {},
   "source": [
    "# TMDB Box Office Predictions\n",
    "In this project, we will use supervised machine learning models to predict the box office revenue of hundreds of films. The film industry is a multi-billion-dollar business, and offers an immense amount of data about movies, all available through the internet.\n",
    "\n",
    "In this project, we will use supervised machine learning techniques to predict the box office revenue of hundreds of films. This research could be used to help investors in the business avoid risks. The models predict an approximate success rate of a movie based on its features by analyzing data from The Movie Data Base."
   ]
  },
  {
   "cell_type": "code",
   "execution_count": 1,
   "id": "058c7a3c",
   "metadata": {},
   "outputs": [],
   "source": [
    "#import dependencies \n",
    "import pandas as pd\n",
    "import numpy as np\n",
    "from config import api_key\n",
    "import json\n",
    "from collections import Counter\n",
    "from pprint import pprint\n",
    "import requests\n",
    "import os \n",
    "import csv \n",
    "from datetime import datetime\n",
    "from xgboost import XGBRegressor"
   ]
  },
  {
   "cell_type": "code",
   "execution_count": 5,
   "id": "1f7592fe",
   "metadata": {},
   "outputs": [],
   "source": [
    "#Import Datasets from Kaggle\n",
    "train_data = pd.read_csv('Resources/train.csv')\n",
    "test_data = pd.read_csv('Resources/test.csv')"
   ]
  },
  {
   "cell_type": "code",
   "execution_count": 7,
   "id": "02c8dddc",
   "metadata": {
    "scrolled": true
   },
   "outputs": [
    {
     "name": "stdout",
     "output_type": "stream",
     "text": [
      "(3000, 23)\n"
     ]
    },
    {
     "data": {
      "text/html": [
       "<div>\n",
       "<style scoped>\n",
       "    .dataframe tbody tr th:only-of-type {\n",
       "        vertical-align: middle;\n",
       "    }\n",
       "\n",
       "    .dataframe tbody tr th {\n",
       "        vertical-align: top;\n",
       "    }\n",
       "\n",
       "    .dataframe thead th {\n",
       "        text-align: right;\n",
       "    }\n",
       "</style>\n",
       "<table border=\"1\" class=\"dataframe\">\n",
       "  <thead>\n",
       "    <tr style=\"text-align: right;\">\n",
       "      <th></th>\n",
       "      <th>id</th>\n",
       "      <th>budget</th>\n",
       "      <th>popularity</th>\n",
       "      <th>runtime</th>\n",
       "      <th>revenue</th>\n",
       "    </tr>\n",
       "  </thead>\n",
       "  <tbody>\n",
       "    <tr>\n",
       "      <th>count</th>\n",
       "      <td>3000.000000</td>\n",
       "      <td>3.000000e+03</td>\n",
       "      <td>3000.000000</td>\n",
       "      <td>2998.000000</td>\n",
       "      <td>3.000000e+03</td>\n",
       "    </tr>\n",
       "    <tr>\n",
       "      <th>mean</th>\n",
       "      <td>1500.500000</td>\n",
       "      <td>2.253133e+07</td>\n",
       "      <td>8.463274</td>\n",
       "      <td>107.856571</td>\n",
       "      <td>6.672585e+07</td>\n",
       "    </tr>\n",
       "    <tr>\n",
       "      <th>std</th>\n",
       "      <td>866.169729</td>\n",
       "      <td>3.702609e+07</td>\n",
       "      <td>12.104000</td>\n",
       "      <td>22.086434</td>\n",
       "      <td>1.375323e+08</td>\n",
       "    </tr>\n",
       "    <tr>\n",
       "      <th>min</th>\n",
       "      <td>1.000000</td>\n",
       "      <td>0.000000e+00</td>\n",
       "      <td>0.000001</td>\n",
       "      <td>0.000000</td>\n",
       "      <td>1.000000e+00</td>\n",
       "    </tr>\n",
       "    <tr>\n",
       "      <th>25%</th>\n",
       "      <td>750.750000</td>\n",
       "      <td>0.000000e+00</td>\n",
       "      <td>4.018053</td>\n",
       "      <td>94.000000</td>\n",
       "      <td>2.379808e+06</td>\n",
       "    </tr>\n",
       "    <tr>\n",
       "      <th>50%</th>\n",
       "      <td>1500.500000</td>\n",
       "      <td>8.000000e+06</td>\n",
       "      <td>7.374861</td>\n",
       "      <td>104.000000</td>\n",
       "      <td>1.680707e+07</td>\n",
       "    </tr>\n",
       "    <tr>\n",
       "      <th>75%</th>\n",
       "      <td>2250.250000</td>\n",
       "      <td>2.900000e+07</td>\n",
       "      <td>10.890983</td>\n",
       "      <td>118.000000</td>\n",
       "      <td>6.891920e+07</td>\n",
       "    </tr>\n",
       "    <tr>\n",
       "      <th>max</th>\n",
       "      <td>3000.000000</td>\n",
       "      <td>3.800000e+08</td>\n",
       "      <td>294.337037</td>\n",
       "      <td>338.000000</td>\n",
       "      <td>1.519558e+09</td>\n",
       "    </tr>\n",
       "  </tbody>\n",
       "</table>\n",
       "</div>"
      ],
      "text/plain": [
       "                id        budget   popularity      runtime       revenue\n",
       "count  3000.000000  3.000000e+03  3000.000000  2998.000000  3.000000e+03\n",
       "mean   1500.500000  2.253133e+07     8.463274   107.856571  6.672585e+07\n",
       "std     866.169729  3.702609e+07    12.104000    22.086434  1.375323e+08\n",
       "min       1.000000  0.000000e+00     0.000001     0.000000  1.000000e+00\n",
       "25%     750.750000  0.000000e+00     4.018053    94.000000  2.379808e+06\n",
       "50%    1500.500000  8.000000e+06     7.374861   104.000000  1.680707e+07\n",
       "75%    2250.250000  2.900000e+07    10.890983   118.000000  6.891920e+07\n",
       "max    3000.000000  3.800000e+08   294.337037   338.000000  1.519558e+09"
      ]
     },
     "execution_count": 7,
     "metadata": {},
     "output_type": "execute_result"
    }
   ],
   "source": [
    "print(train_data.shape)\n",
    "train_data.describe()"
   ]
  },
  {
   "cell_type": "code",
   "execution_count": 8,
   "id": "d01cf497",
   "metadata": {},
   "outputs": [
    {
     "name": "stdout",
     "output_type": "stream",
     "text": [
      "(4398, 22)\n"
     ]
    },
    {
     "data": {
      "text/html": [
       "<div>\n",
       "<style scoped>\n",
       "    .dataframe tbody tr th:only-of-type {\n",
       "        vertical-align: middle;\n",
       "    }\n",
       "\n",
       "    .dataframe tbody tr th {\n",
       "        vertical-align: top;\n",
       "    }\n",
       "\n",
       "    .dataframe thead th {\n",
       "        text-align: right;\n",
       "    }\n",
       "</style>\n",
       "<table border=\"1\" class=\"dataframe\">\n",
       "  <thead>\n",
       "    <tr style=\"text-align: right;\">\n",
       "      <th></th>\n",
       "      <th>id</th>\n",
       "      <th>budget</th>\n",
       "      <th>popularity</th>\n",
       "      <th>runtime</th>\n",
       "    </tr>\n",
       "  </thead>\n",
       "  <tbody>\n",
       "    <tr>\n",
       "      <th>count</th>\n",
       "      <td>4398.000000</td>\n",
       "      <td>4.398000e+03</td>\n",
       "      <td>4398.000000</td>\n",
       "      <td>4394.000000</td>\n",
       "    </tr>\n",
       "    <tr>\n",
       "      <th>mean</th>\n",
       "      <td>5199.500000</td>\n",
       "      <td>2.264929e+07</td>\n",
       "      <td>8.550230</td>\n",
       "      <td>107.622212</td>\n",
       "    </tr>\n",
       "    <tr>\n",
       "      <th>std</th>\n",
       "      <td>1269.737571</td>\n",
       "      <td>3.689991e+07</td>\n",
       "      <td>12.209014</td>\n",
       "      <td>21.058290</td>\n",
       "    </tr>\n",
       "    <tr>\n",
       "      <th>min</th>\n",
       "      <td>3001.000000</td>\n",
       "      <td>0.000000e+00</td>\n",
       "      <td>0.000001</td>\n",
       "      <td>0.000000</td>\n",
       "    </tr>\n",
       "    <tr>\n",
       "      <th>25%</th>\n",
       "      <td>4100.250000</td>\n",
       "      <td>0.000000e+00</td>\n",
       "      <td>3.895186</td>\n",
       "      <td>94.000000</td>\n",
       "    </tr>\n",
       "    <tr>\n",
       "      <th>50%</th>\n",
       "      <td>5199.500000</td>\n",
       "      <td>7.450000e+06</td>\n",
       "      <td>7.482242</td>\n",
       "      <td>104.000000</td>\n",
       "    </tr>\n",
       "    <tr>\n",
       "      <th>75%</th>\n",
       "      <td>6298.750000</td>\n",
       "      <td>2.800000e+07</td>\n",
       "      <td>10.938524</td>\n",
       "      <td>118.000000</td>\n",
       "    </tr>\n",
       "    <tr>\n",
       "      <th>max</th>\n",
       "      <td>7398.000000</td>\n",
       "      <td>2.600000e+08</td>\n",
       "      <td>547.488298</td>\n",
       "      <td>320.000000</td>\n",
       "    </tr>\n",
       "  </tbody>\n",
       "</table>\n",
       "</div>"
      ],
      "text/plain": [
       "                id        budget   popularity      runtime\n",
       "count  4398.000000  4.398000e+03  4398.000000  4394.000000\n",
       "mean   5199.500000  2.264929e+07     8.550230   107.622212\n",
       "std    1269.737571  3.689991e+07    12.209014    21.058290\n",
       "min    3001.000000  0.000000e+00     0.000001     0.000000\n",
       "25%    4100.250000  0.000000e+00     3.895186    94.000000\n",
       "50%    5199.500000  7.450000e+06     7.482242   104.000000\n",
       "75%    6298.750000  2.800000e+07    10.938524   118.000000\n",
       "max    7398.000000  2.600000e+08   547.488298   320.000000"
      ]
     },
     "execution_count": 8,
     "metadata": {},
     "output_type": "execute_result"
    }
   ],
   "source": [
    "print(test_data.shape)\n",
    "test_data.describe()"
   ]
  },
  {
   "cell_type": "code",
   "execution_count": 9,
   "id": "ebeeaf8b",
   "metadata": {},
   "outputs": [
    {
     "data": {
      "text/plain": [
       "belongs_to_collection    2396\n",
       "homepage                 2054\n",
       "tagline                   597\n",
       "Keywords                  276\n",
       "production_companies      156\n",
       "production_countries       55\n",
       "spoken_languages           20\n",
       "crew                       16\n",
       "cast                       13\n",
       "overview                    8\n",
       "genres                      7\n",
       "runtime                     2\n",
       "poster_path                 1\n",
       "title                       0\n",
       "status                      0\n",
       "id                          0\n",
       "release_date                0\n",
       "popularity                  0\n",
       "original_title              0\n",
       "original_language           0\n",
       "imdb_id                     0\n",
       "budget                      0\n",
       "revenue                     0\n",
       "dtype: int64"
      ]
     },
     "execution_count": 9,
     "metadata": {},
     "output_type": "execute_result"
    }
   ],
   "source": [
    "#check missing values \n",
    ".train_data.isna().sum().sort_values(ascending=False)"
   ]
  },
  {
   "cell_type": "code",
   "execution_count": 10,
   "id": "c2ec0613",
   "metadata": {},
   "outputs": [
    {
     "data": {
      "text/plain": [
       "belongs_to_collection    3521\n",
       "homepage                 2978\n",
       "tagline                   863\n",
       "Keywords                  393\n",
       "production_companies      258\n",
       "production_countries      102\n",
       "spoken_languages           42\n",
       "crew                       22\n",
       "genres                     16\n",
       "overview                   14\n",
       "cast                       13\n",
       "runtime                     4\n",
       "title                       3\n",
       "status                      2\n",
       "poster_path                 1\n",
       "release_date                1\n",
       "popularity                  0\n",
       "original_title              0\n",
       "original_language           0\n",
       "imdb_id                     0\n",
       "budget                      0\n",
       "id                          0\n",
       "dtype: int64"
      ]
     },
     "execution_count": 10,
     "metadata": {},
     "output_type": "execute_result"
    }
   ],
   "source": [
    "x"
   ]
  },
  {
   "cell_type": "markdown",
   "id": "e99c22df",
   "metadata": {},
   "source": [
    "# Data Cleaning \n",
    "Based on the missing values, it definitly looks like we are going to need to drop the following features:\n",
    "- belongs_to_collection    \n",
    "- homepage                 \n",
    "- tagline \n",
    "- Keywords "
   ]
  },
  {
   "cell_type": "code",
   "execution_count": 13,
   "id": "39438d88",
   "metadata": {
    "scrolled": false
   },
   "outputs": [],
   "source": [
    "#We will drop the columns that we do not believe will aid our models \n",
    "train_data= train_data.drop(columns=['belongs_to_collection','homepage','tagline','Keywords'])"
   ]
  },
  {
   "cell_type": "code",
   "execution_count": 14,
   "id": "d2427d46",
   "metadata": {},
   "outputs": [],
   "source": [
    "test_data= test_data.drop(columns=['belongs_to_collection','homepage','tagline','Keywords'])"
   ]
  },
  {
   "cell_type": "code",
   "execution_count": 15,
   "id": "6eae3271",
   "metadata": {},
   "outputs": [],
   "source": [
    "#addressing other missing values \n",
    "train_data= train_data.dropna(inplace=True)\n",
    "test_data= test_data.dropna(inplace=True)"
   ]
  },
  {
   "cell_type": "markdown",
   "id": "50f3368d",
   "metadata": {},
   "source": [
    "# Data Preprocessing"
   ]
  },
  {
   "cell_type": "code",
   "execution_count": 19,
   "id": "a24c5c76",
   "metadata": {},
   "outputs": [],
   "source": [
    "import seaborn as sns"
   ]
  },
  {
   "cell_type": "code",
   "execution_count": 20,
   "id": "ced41293",
   "metadata": {},
   "outputs": [
    {
     "ename": "ValueError",
     "evalue": "Could not interpret input 'status'",
     "output_type": "error",
     "traceback": [
      "\u001b[0;31m---------------------------------------------------------------------------\u001b[0m",
      "\u001b[0;31mValueError\u001b[0m                                Traceback (most recent call last)",
      "\u001b[0;32m<ipython-input-20-8a3213abb342>\u001b[0m in \u001b[0;36m<module>\u001b[0;34m\u001b[0m\n\u001b[0;32m----> 1\u001b[0;31m \u001b[0msns\u001b[0m\u001b[0;34m.\u001b[0m\u001b[0mcountplot\u001b[0m\u001b[0;34m(\u001b[0m\u001b[0mx\u001b[0m\u001b[0;34m=\u001b[0m\u001b[0;34m'status'\u001b[0m\u001b[0;34m,\u001b[0m\u001b[0mdata\u001b[0m\u001b[0;34m=\u001b[0m\u001b[0mtrain_data\u001b[0m\u001b[0;34m)\u001b[0m\u001b[0;34m\u001b[0m\u001b[0;34m\u001b[0m\u001b[0m\n\u001b[0m",
      "\u001b[0;32m~/opt/anaconda3/lib/python3.8/site-packages/seaborn/_decorators.py\u001b[0m in \u001b[0;36minner_f\u001b[0;34m(*args, **kwargs)\u001b[0m\n\u001b[1;32m     44\u001b[0m             )\n\u001b[1;32m     45\u001b[0m         \u001b[0mkwargs\u001b[0m\u001b[0;34m.\u001b[0m\u001b[0mupdate\u001b[0m\u001b[0;34m(\u001b[0m\u001b[0;34m{\u001b[0m\u001b[0mk\u001b[0m\u001b[0;34m:\u001b[0m \u001b[0marg\u001b[0m \u001b[0;32mfor\u001b[0m \u001b[0mk\u001b[0m\u001b[0;34m,\u001b[0m \u001b[0marg\u001b[0m \u001b[0;32min\u001b[0m \u001b[0mzip\u001b[0m\u001b[0;34m(\u001b[0m\u001b[0msig\u001b[0m\u001b[0;34m.\u001b[0m\u001b[0mparameters\u001b[0m\u001b[0;34m,\u001b[0m \u001b[0margs\u001b[0m\u001b[0;34m)\u001b[0m\u001b[0;34m}\u001b[0m\u001b[0;34m)\u001b[0m\u001b[0;34m\u001b[0m\u001b[0;34m\u001b[0m\u001b[0m\n\u001b[0;32m---> 46\u001b[0;31m         \u001b[0;32mreturn\u001b[0m \u001b[0mf\u001b[0m\u001b[0;34m(\u001b[0m\u001b[0;34m**\u001b[0m\u001b[0mkwargs\u001b[0m\u001b[0;34m)\u001b[0m\u001b[0;34m\u001b[0m\u001b[0;34m\u001b[0m\u001b[0m\n\u001b[0m\u001b[1;32m     47\u001b[0m     \u001b[0;32mreturn\u001b[0m \u001b[0minner_f\u001b[0m\u001b[0;34m\u001b[0m\u001b[0;34m\u001b[0m\u001b[0m\n\u001b[1;32m     48\u001b[0m \u001b[0;34m\u001b[0m\u001b[0m\n",
      "\u001b[0;32m~/opt/anaconda3/lib/python3.8/site-packages/seaborn/categorical.py\u001b[0m in \u001b[0;36mcountplot\u001b[0;34m(x, y, hue, data, order, hue_order, orient, color, palette, saturation, dodge, ax, **kwargs)\u001b[0m\n\u001b[1;32m   3593\u001b[0m         \u001b[0;32mraise\u001b[0m \u001b[0mValueError\u001b[0m\u001b[0;34m(\u001b[0m\u001b[0;34m\"Cannot pass values for both `x` and `y`\"\u001b[0m\u001b[0;34m)\u001b[0m\u001b[0;34m\u001b[0m\u001b[0;34m\u001b[0m\u001b[0m\n\u001b[1;32m   3594\u001b[0m \u001b[0;34m\u001b[0m\u001b[0m\n\u001b[0;32m-> 3595\u001b[0;31m     plotter = _CountPlotter(\n\u001b[0m\u001b[1;32m   3596\u001b[0m         \u001b[0mx\u001b[0m\u001b[0;34m,\u001b[0m \u001b[0my\u001b[0m\u001b[0;34m,\u001b[0m \u001b[0mhue\u001b[0m\u001b[0;34m,\u001b[0m \u001b[0mdata\u001b[0m\u001b[0;34m,\u001b[0m \u001b[0morder\u001b[0m\u001b[0;34m,\u001b[0m \u001b[0mhue_order\u001b[0m\u001b[0;34m,\u001b[0m\u001b[0;34m\u001b[0m\u001b[0;34m\u001b[0m\u001b[0m\n\u001b[1;32m   3597\u001b[0m         \u001b[0mestimator\u001b[0m\u001b[0;34m,\u001b[0m \u001b[0mci\u001b[0m\u001b[0;34m,\u001b[0m \u001b[0mn_boot\u001b[0m\u001b[0;34m,\u001b[0m \u001b[0munits\u001b[0m\u001b[0;34m,\u001b[0m \u001b[0mseed\u001b[0m\u001b[0;34m,\u001b[0m\u001b[0;34m\u001b[0m\u001b[0;34m\u001b[0m\u001b[0m\n",
      "\u001b[0;32m~/opt/anaconda3/lib/python3.8/site-packages/seaborn/categorical.py\u001b[0m in \u001b[0;36m__init__\u001b[0;34m(self, x, y, hue, data, order, hue_order, estimator, ci, n_boot, units, seed, orient, color, palette, saturation, errcolor, errwidth, capsize, dodge)\u001b[0m\n\u001b[1;32m   1582\u001b[0m                  errwidth, capsize, dodge):\n\u001b[1;32m   1583\u001b[0m         \u001b[0;34m\"\"\"Initialize the plotter.\"\"\"\u001b[0m\u001b[0;34m\u001b[0m\u001b[0;34m\u001b[0m\u001b[0m\n\u001b[0;32m-> 1584\u001b[0;31m         self.establish_variables(x, y, hue, data, orient,\n\u001b[0m\u001b[1;32m   1585\u001b[0m                                  order, hue_order, units)\n\u001b[1;32m   1586\u001b[0m         \u001b[0mself\u001b[0m\u001b[0;34m.\u001b[0m\u001b[0mestablish_colors\u001b[0m\u001b[0;34m(\u001b[0m\u001b[0mcolor\u001b[0m\u001b[0;34m,\u001b[0m \u001b[0mpalette\u001b[0m\u001b[0;34m,\u001b[0m \u001b[0msaturation\u001b[0m\u001b[0;34m)\u001b[0m\u001b[0;34m\u001b[0m\u001b[0;34m\u001b[0m\u001b[0m\n",
      "\u001b[0;32m~/opt/anaconda3/lib/python3.8/site-packages/seaborn/categorical.py\u001b[0m in \u001b[0;36mestablish_variables\u001b[0;34m(self, x, y, hue, data, orient, order, hue_order, units)\u001b[0m\n\u001b[1;32m    151\u001b[0m                 \u001b[0;32mif\u001b[0m \u001b[0misinstance\u001b[0m\u001b[0;34m(\u001b[0m\u001b[0mvar\u001b[0m\u001b[0;34m,\u001b[0m \u001b[0mstr\u001b[0m\u001b[0;34m)\u001b[0m\u001b[0;34m:\u001b[0m\u001b[0;34m\u001b[0m\u001b[0;34m\u001b[0m\u001b[0m\n\u001b[1;32m    152\u001b[0m                     \u001b[0merr\u001b[0m \u001b[0;34m=\u001b[0m \u001b[0;34m\"Could not interpret input '{}'\"\u001b[0m\u001b[0;34m.\u001b[0m\u001b[0mformat\u001b[0m\u001b[0;34m(\u001b[0m\u001b[0mvar\u001b[0m\u001b[0;34m)\u001b[0m\u001b[0;34m\u001b[0m\u001b[0;34m\u001b[0m\u001b[0m\n\u001b[0;32m--> 153\u001b[0;31m                     \u001b[0;32mraise\u001b[0m \u001b[0mValueError\u001b[0m\u001b[0;34m(\u001b[0m\u001b[0merr\u001b[0m\u001b[0;34m)\u001b[0m\u001b[0;34m\u001b[0m\u001b[0;34m\u001b[0m\u001b[0m\n\u001b[0m\u001b[1;32m    154\u001b[0m \u001b[0;34m\u001b[0m\u001b[0m\n\u001b[1;32m    155\u001b[0m             \u001b[0;31m# Figure out the plotting orientation\u001b[0m\u001b[0;34m\u001b[0m\u001b[0;34m\u001b[0m\u001b[0;34m\u001b[0m\u001b[0m\n",
      "\u001b[0;31mValueError\u001b[0m: Could not interpret input 'status'"
     ]
    }
   ],
   "source": [
    "sns.countplot(x='status',data=train_data)"
   ]
  },
  {
   "cell_type": "code",
   "execution_count": null,
   "id": "11a8eec6",
   "metadata": {},
   "outputs": [],
   "source": []
  },
  {
   "cell_type": "code",
   "execution_count": null,
   "id": "8bd99c53",
   "metadata": {},
   "outputs": [],
   "source": []
  },
  {
   "cell_type": "code",
   "execution_count": null,
   "id": "28d07b6b",
   "metadata": {},
   "outputs": [],
   "source": []
  },
  {
   "cell_type": "code",
   "execution_count": null,
   "id": "309f60fe",
   "metadata": {},
   "outputs": [],
   "source": [
    "train_data[\"genres\"] = train_data.genres.astype(str)\n",
    "test_data[\"genres\"] = test_data.genres.astype(str)"
   ]
  },
  {
   "cell_type": "code",
   "execution_count": null,
   "id": "4fa5098a",
   "metadata": {},
   "outputs": [],
   "source": []
  },
  {
   "cell_type": "code",
   "execution_count": null,
   "id": "1633a963",
   "metadata": {},
   "outputs": [],
   "source": [
    "#fix some of the value formating, pull out genres from list \n",
    "def proc_json(string, key):\n",
    "    try:\n",
    "        data = eval(string)\n",
    "        return \",\".join([d[key] for d in data])\n",
    "    except:\n",
    "        return ''\n",
    "    \n",
    "train_data.genres = train_data.genres.apply(lambda x: proc_json(x, 'name'))\n",
    "test_data.genres = test_data.genres.apply(lambda x: proc_json(x, 'name'))"
   ]
  },
  {
   "cell_type": "code",
   "execution_count": null,
   "id": "c0ad7410",
   "metadata": {},
   "outputs": [],
   "source": [
    "genres = []\n",
    "for idx, val in train.genres.iteritems():\n",
    "    gen_list = val.split(',')\n",
    "    for gen in gen_list:\n",
    "        if gen == '':\n",
    "            continue\n",
    "\n",
    "        if gen not in genres:\n",
    "            genres.append(gen)"
   ]
  }
 ],
 "metadata": {
  "kernelspec": {
   "display_name": "Python 3",
   "language": "python",
   "name": "python3"
  },
  "language_info": {
   "codemirror_mode": {
    "name": "ipython",
    "version": 3
   },
   "file_extension": ".py",
   "mimetype": "text/x-python",
   "name": "python",
   "nbconvert_exporter": "python",
   "pygments_lexer": "ipython3",
   "version": "3.8.8"
  }
 },
 "nbformat": 4,
 "nbformat_minor": 5
}
